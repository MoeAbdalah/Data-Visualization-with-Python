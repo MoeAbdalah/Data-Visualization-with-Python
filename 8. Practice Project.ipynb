{
 "cells": [
  {
   "cell_type": "code",
   "execution_count": 1,
   "id": "0467fd28",
   "metadata": {},
   "outputs": [
    {
     "name": "stdout",
     "output_type": "stream",
     "text": [
      "Imports Successful\n"
     ]
    }
   ],
   "source": [
    "# Import required packages\n",
    "import pandas as pd\n",
    "import dash\n",
    "from dash import html, dcc\n",
    "import plotly.express as px\n",
    "from dash.dependencies import Input, Output\n",
    "\n",
    "print('Imports Successful')"
   ]
  },
  {
   "cell_type": "code",
   "execution_count": null,
   "id": "0b43662a",
   "metadata": {},
   "outputs": [
    {
     "name": "stdout",
     "output_type": "stream",
     "text": [
      "Dash is running on http://127.0.0.1:8050/\n",
      "\n",
      " * Serving Flask app \"__main__\" (lazy loading)\n",
      " * Environment: production\n",
      "\u001b[31m   WARNING: This is a development server. Do not use it in a production deployment.\u001b[0m\n",
      "\u001b[2m   Use a production WSGI server instead.\u001b[0m\n",
      " * Debug mode: off\n"
     ]
    },
    {
     "name": "stderr",
     "output_type": "stream",
     "text": [
      " * Running on http://127.0.0.1:8050/ (Press CTRL+C to quit)\n"
     ]
    }
   ],
   "source": [
    "# Add Dataframe\n",
    "df = pd.DataFrame({\n",
    "    \"Fruit\": [\"Apples\", \"Oranges\", \"Bananas\", \"Apples\", \"Oranges\", \"Bananas\"],\n",
    "    \"Amount\": [4, 1, 2, 2, 4, 5],\n",
    "    \"City\": [\"SF\", \"SF\", \"SF\", \"NYC\", \"MTL\", \"NYC\"]\n",
    "})\n",
    "# Add a bar graph figure\n",
    "fig = px.bar(df, x=\"Fruit\", y=\"Amount\", color=\"City\", barmode=\"group\")\n",
    "        \n",
    "app = dash.Dash()\n",
    "app.layout = html.Div(children=[\n",
    "    html.H1(\n",
    "        children='Dashboard',\n",
    "        style={\n",
    "            'textAlign': 'center'\n",
    "        }\n",
    "    ), \n",
    "\n",
    "    # Create dropdown\n",
    "    dcc.Dropdown(options=[\n",
    "            {'label': 'New York City', 'value': 'NYC'},\n",
    "            {'label': 'Montréal', 'value': 'MTL'},\n",
    "            {'label': 'San Francisco', 'value': 'SF'}\n",
    "        ],\n",
    "        value='NYC' # Providing a vallue to dropdown\n",
    "    ),\n",
    "    # Bar graph\n",
    "    dcc.Graph(id='example-graph-2',figure=fig)\n",
    "])\n",
    "\n",
    "# Run Application\n",
    "if __name__ == '__main__':\n",
    "    app.run_server()"
   ]
  },
  {
   "cell_type": "markdown",
   "id": "9154c8e5",
   "metadata": {},
   "source": [
    "### Part 2:"
   ]
  },
  {
   "cell_type": "code",
   "execution_count": null,
   "id": "ca97c1f0",
   "metadata": {},
   "outputs": [],
   "source": [
    "wget https://cf-courses-data.s3.us.cloud-object-storage.appdomain.cloud/IBMDeveloperSkillsNetwork-DA0101EN-SkillsNetwork/labs/Data%20files/automobileEDA.csv\n",
    "\n",
    "print('Done')"
   ]
  },
  {
   "cell_type": "code",
   "execution_count": null,
   "id": "700f07b7",
   "metadata": {},
   "outputs": [],
   "source": [
    "from dash.dependencies import State\n",
    "import plotly.graph_objects as go\n",
    "from dash import no_update\n",
    "\n",
    "print('Imports Successful')"
   ]
  },
  {
   "cell_type": "code",
   "execution_count": null,
   "id": "ee6c8136",
   "metadata": {},
   "outputs": [],
   "source": [
    "app = dash.Dash(__name__)\n",
    "\n",
    "# REVIEW1: Clear the layout and do not display exception till callback gets executed\n",
    "app.config.suppress_callback_exceptions = True\n",
    "\n",
    "# Read the automobiles data into pandas dataframe\n",
    "auto_data =  pd.read_csv('automobileEDA.csv', \n",
    "                            encoding = \"ISO-8859-1\",\n",
    "                            )\n",
    "\n",
    "#Layout Section of Dash\n",
    "\n",
    "app.layout = html.Div(children=[html.H1('Car Automobile Components', \n",
    "                                style={'textAlign': 'center', 'color': '#503D36',\n",
    "                                'font-size': 24}),\n",
    "\n",
    "     #outer division starts\n",
    "     html.Div([\n",
    "                   # First inner divsion for  adding dropdown helper text for Selected Drive wheels\n",
    "                    html.Div(html.H2('Drive Wheels Type:', style={'margin-right': '2em'}),\n",
    "                     ),\n",
    "\n",
    "\n",
    "                     dcc.Dropdown(\n",
    "                            id='demo-dropdown',\n",
    "                        options=[\n",
    "                             {'label': 'Rear Wheel Drive', 'value': 'rwd'},\n",
    "                            {'label': 'Front Wheel Drive', 'value': 'fwd'},\n",
    "                             {'label': 'Four Wheel Drive', 'value': '4wd'}\n",
    "                        ],\n",
    "                        value='rwd'\n",
    "                    ),\n",
    "                    #Second Inner division for adding 2 inner divisions for 2 output graphs \n",
    "                    html.Div([\n",
    "                        html.Div([ ], id='plot1'),\n",
    "                        html.Div([ ], id='plot2')\n",
    "                    ], style={'display': 'flex'}),\n",
    "\n",
    "\n",
    "    ])\n",
    "    #outer division ends\n",
    "\n",
    "])\n",
    "#layout ends\n",
    "\n",
    "#Place to add @app.callback Decorator\n",
    "@app.callback([Output(component_id='plot1', component_property='children'),\n",
    "               Output(component_id='plot2', component_property='children')\n",
    "              ],\n",
    "               Input(component_id='demo-dropdown', component_property='value'))\n",
    "\n",
    "\n",
    "#Place to define the callback function .\n",
    "def display_selected_drive_charts(value):\n",
    "\n",
    "\n",
    "\n",
    "   filtered_df = auto_data[auto_data['drive-wheels']==value].groupby(['drive-wheels','body-style'],as_index=False). \\\n",
    "            mean()\n",
    "\n",
    "   filtered_df = filtered_df\n",
    "\n",
    "   fig1 = px.pie(filtered_df, values='price', names='body-style', title=\"Pie Chart\")\n",
    "   fig2 = px.bar(filtered_df, x='body-style', y='price', title='Bar Chart')\n",
    "\n",
    "   return [dcc.Graph(figure=fig1),\n",
    "            dcc.Graph(figure=fig2) ]\n",
    "\n",
    "\n",
    "\n",
    "\n",
    "if __name__ == '__main__':\n",
    "    app.run_server()"
   ]
  },
  {
   "cell_type": "code",
   "execution_count": null,
   "id": "03b034a4",
   "metadata": {},
   "outputs": [],
   "source": []
  }
 ],
 "metadata": {
  "kernelspec": {
   "display_name": "Python 3 (ipykernel)",
   "language": "python",
   "name": "python3"
  },
  "language_info": {
   "codemirror_mode": {
    "name": "ipython",
    "version": 3
   },
   "file_extension": ".py",
   "mimetype": "text/x-python",
   "name": "python",
   "nbconvert_exporter": "python",
   "pygments_lexer": "ipython3",
   "version": "3.8.8"
  }
 },
 "nbformat": 4,
 "nbformat_minor": 5
}
